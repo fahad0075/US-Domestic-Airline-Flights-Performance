{
 "cells": [
  {
   "cell_type": "code",
   "execution_count": 1,
   "id": "6cf12a7c-602f-4654-97a9-583ec933e1b1",
   "metadata": {},
   "outputs": [],
   "source": [
    "import pandas as pd\n",
    "import dash\n",
    "from dash import Dash, html, dcc, dash_table\n",
    "from dash.dependencies import Input, Output, State\n",
    "from jupyter_dash import JupyterDash\n",
    "import plotly.graph_objects as go\n",
    "import plotly.express as px\n",
    "from dash import no_update"
   ]
  },
  {
   "cell_type": "code",
   "execution_count": 2,
   "id": "6c7dbb3f-f801-490e-a9db-792ac8755fb7",
   "metadata": {},
   "outputs": [],
   "source": [
    "app = dash.Dash(__name__)"
   ]
  },
  {
   "cell_type": "code",
   "execution_count": 3,
   "id": "c664890c-2156-4c1f-ac34-41600e2db487",
   "metadata": {},
   "outputs": [],
   "source": [
    "app.config.suppress_callback_exceptions = True"
   ]
  },
  {
   "cell_type": "code",
   "execution_count": 4,
   "id": "fd87de27-9e15-4b57-963d-5193d6fc0e14",
   "metadata": {},
   "outputs": [],
   "source": [
    "airline_data =  pd.read_csv('https://cf-courses-data.s3.us.cloud-object-storage.appdomain.cloud/IBMDeveloperSkillsNetwork-DV0101EN-SkillsNetwork/Data%20Files/airline_data.csv', \n",
    "                            encoding = \"ISO-8859-1\",\n",
    "                            dtype={'Div1Airport': str, 'Div1TailNum': str, \n",
    "                                   'Div2Airport': str, 'Div2TailNum': str})"
   ]
  },
  {
   "cell_type": "code",
   "execution_count": 5,
   "id": "00a7024b-aca4-42f3-950a-8a2284e1303b",
   "metadata": {},
   "outputs": [],
   "source": [
    "year_list = [i for i in range(2005, 2021, 1)]"
   ]
  },
  {
   "cell_type": "code",
   "execution_count": 6,
   "id": "141010fd-4349-4a7d-b815-1e0e5efbd43f",
   "metadata": {},
   "outputs": [],
   "source": [
    "def compute_data_choice_1(df):\n",
    "    # Cancellation Category Count\n",
    "    bar_data = df.groupby(['Month','CancellationCode'])['Flights'].sum().reset_index()\n",
    "    # Average flight time by reporting airline\n",
    "    line_data = df.groupby(['Month','Reporting_Airline'])['AirTime'].mean().reset_index()\n",
    "    # Diverted Airport Landings\n",
    "    div_data = df[df['DivAirportLandings'] != 0.0]\n",
    "    # Source state count\n",
    "    map_data = df.groupby(['OriginState'])['Flights'].sum().reset_index()\n",
    "    # Destination state count\n",
    "    tree_data = df.groupby(['DestState', 'Reporting_Airline'])['Flights'].sum().reset_index()\n",
    "    return bar_data, line_data, div_data, map_data, tree_data"
   ]
  },
  {
   "cell_type": "code",
   "execution_count": 7,
   "id": "2d9bbb37-713e-4075-8b7a-2e28ab460487",
   "metadata": {},
   "outputs": [],
   "source": [
    "def compute_data_choice_2(df):\n",
    "    # Compute delay averages\n",
    "    avg_car = df.groupby(['Month','Reporting_Airline'])['CarrierDelay'].mean().reset_index()\n",
    "    avg_weather = df.groupby(['Month','Reporting_Airline'])['WeatherDelay'].mean().reset_index()\n",
    "    avg_NAS = df.groupby(['Month','Reporting_Airline'])['NASDelay'].mean().reset_index()\n",
    "    avg_sec = df.groupby(['Month','Reporting_Airline'])['SecurityDelay'].mean().reset_index()\n",
    "    avg_late = df.groupby(['Month','Reporting_Airline'])['LateAircraftDelay'].mean().reset_index()\n",
    "    return avg_car, avg_weather, avg_NAS, avg_sec, avg_late"
   ]
  },
  {
   "cell_type": "code",
   "execution_count": 8,
   "id": "24e12a12-69dd-402a-ab24-f197a9038751",
   "metadata": {},
   "outputs": [],
   "source": [
    "app.layout = (html.Div(children=[ \n",
    "                                # TODO1: Add title to the dashboard\n",
    "                                html.H1('US Domestic Airline Flights Performance',\n",
    "                                        style={'text-align-last':'centre','color':'#503D36','font-size':24}\n",
    "                                       ),\n",
    "                                # REVIEW2: Dropdown creation\n",
    "                                # Create an outer division \n",
    "                                html.Div([\n",
    "                                    # Add an division\n",
    "                                    html.Div([\n",
    "                                        # Create an division for adding dropdown helper text for report type   \n",
    "                                        html.Div(\n",
    "                                            [\n",
    "                                            html.H2('Report Type:', style={'margin-right': '2em'})\n",
    "                                            ]\n",
    "                                        ),\n",
    "                                        # TODO2: Add a dropdown\n",
    "                                        dcc.Dropdown(id='input-type',\n",
    "                                                     options=[\n",
    "                                                              {'label': 'Yearly Airline Performance Report', 'value': 'OPT1'},\n",
    "                                                              {'label': 'Yearly Airline Delay Report', 'value': 'OPT2'}\n",
    "                                                             ],\n",
    "                                                     placeholder='Select a report type',\n",
    "                                                     style={'width':'80%', 'padding':'3px', 'font-size':'20px', 'text-align-last':'center'}\n",
    "                                                    )\n",
    "                                    # Place them next to each other using the division style\n",
    "                                            ], style={'display':'flex'}),\n",
    "                                    \n",
    "                                   # Add next division \n",
    "                                   html.Div([\n",
    "                                       # Create an division for adding dropdown helper text for choosing year\n",
    "                                        html.Div(\n",
    "                                            [\n",
    "                                            html.H2('Choose Year:', style={'margin-right': '2em'})\n",
    "                                            ]\n",
    "                                        ),\n",
    "                                        dcc.Dropdown(id='input-year', \n",
    "                                                     # Update dropdown values using list comphrehension\n",
    "                                                     options=[{'label': i, 'value': i} for i in year_list],\n",
    "                                                     placeholder=\"Select a year\",\n",
    "                                                     style={'width':'80%', 'padding':'3px', 'font-size': '20px', 'text-align-last' : 'center'}),\n",
    "                                            # Place them next to each other using the division style\n",
    "                                            ], style={'display': 'flex'})  \n",
    "                                          ]),\n",
    "                                \n",
    "                                # Add Computed graphs\n",
    "                                # REVIEW3: Observe how we add an empty division and providing an id that will be updated during callback\n",
    "                                html.Div([ ], id='plot1'),\n",
    "    \n",
    "                                html.Div([\n",
    "                                          html.Div([ ], id='plot2'),\n",
    "                                          html.Div([ ], id='plot3')\n",
    "                                         ], \n",
    "                                          style={'display': 'flex'}),\n",
    "                                \n",
    "                                # TODO3: Add a division with two empty divisions inside. See above disvision for example.\n",
    "                                html.Div([\n",
    "                                          html.Div([ ], id='plot4'),\n",
    "                                          html.Div([ ], id='plot5')\n",
    "                                         ], \n",
    "                                          style={'display': 'flex'})\n",
    "                                ]))"
   ]
  },
  {
   "cell_type": "code",
   "execution_count": 9,
   "id": "c1a7f8b3-b40e-4b43-abad-5f94aa4bf349",
   "metadata": {},
   "outputs": [],
   "source": [
    "@app.callback( [Output(component_id='plot1', component_property='children'),\n",
    "                Output(component_id='plot2', component_property='children'),\n",
    "                Output(component_id='plot3', component_property='children'),\n",
    "                Output(component_id='plot4', component_property='children'),\n",
    "                Output(component_id='plot5', component_property='children')\n",
    "               ],\n",
    "               [Input(component_id='input-type', component_property='value'),\n",
    "                Input(component_id='input-year', component_property='value')\n",
    "               ],\n",
    "               # REVIEW4: Holding output state till user enters all the form information. In this case, it will be chart type and year\n",
    "               [State(\"plot1\", 'children'), \n",
    "                State(\"plot2\", \"children\"),\n",
    "                State(\"plot3\", \"children\"), \n",
    "                State(\"plot4\", \"children\"),\n",
    "                State(\"plot5\", \"children\")\n",
    "               ])\n",
    "\n",
    "# Add computation to callback function and return graph\n",
    "def get_graph(chart, year, children1, children2, c3, c4, c5):\n",
    "      \n",
    "        # Select data\n",
    "        df =  airline_data[airline_data['Year']==int(year)]\n",
    "       \n",
    "        if chart == 'OPT1':\n",
    "            # Compute required information for creating graph from the data\n",
    "            bar_data, line_data, div_data, map_data, tree_data = compute_data_choice_1(df)\n",
    "            \n",
    "            # Number of flights under different cancellation categories\n",
    "            bar_fig = px.bar(bar_data, x='Month', y='Flights', color='CancellationCode', title='Monthly Flight Cancellation')\n",
    "            \n",
    "            # TODO5: Average flight time by reporting airline\n",
    "            line_fig = px.line(line_data, x='Month', y='AirTime', color='Reporting_Airline', title='Average monthly flight time (minutes) by airline')\n",
    "            \n",
    "            # Percentage of diverted airport landings per reporting airline\n",
    "            pie_fig = px.pie(div_data, values='Flights', names='Reporting_Airline', title='% of flights by reporting airline')\n",
    "            \n",
    "            # REVIEW5: Number of flights flying from each state using choropleth\n",
    "            map_fig = px.choropleth(map_data,  # Input data\n",
    "                    locations='OriginState', \n",
    "                    color='Flights',  \n",
    "                    hover_data=['OriginState', 'Flights'], \n",
    "                    locationmode = 'USA-states', # Set to plot as USA States\n",
    "                    color_continuous_scale='GnBu',\n",
    "                    range_color=[0, map_data['Flights'].max()]) \n",
    "            map_fig.update_layout(\n",
    "                    title_text = 'Number of flights from origin state', \n",
    "                    geo_scope='usa') # Plot only the USA instead of globe\n",
    "            \n",
    "            # TODO6: Number of flights flying to each state from each reporting airline\n",
    "            tree_fig = px.treemap(tree_data, path=['DestState', 'Reporting_Airline'], \n",
    "                      values='Flights',\n",
    "                      color='Flights',\n",
    "                      color_continuous_scale='RdBu',\n",
    "                      title='Flight count by airline to destination state'\n",
    "                )\n",
    "            \n",
    "            # REVIEW6: Return dcc.Graph component to the empty division\n",
    "            return [dcc.Graph(figure=tree_fig), \n",
    "                    dcc.Graph(figure=pie_fig),\n",
    "                    dcc.Graph(figure=map_fig),\n",
    "                    dcc.Graph(figure=bar_fig),\n",
    "                    dcc.Graph(figure=line_fig)\n",
    "                   ]\n",
    "        else:\n",
    "            # REVIEW7: This covers chart type 2 and we have completed this exercise under Flight Delay Time Statistics Dashboard section\n",
    "            # Compute required information for creating graph from the data\n",
    "            avg_car, avg_weather, avg_NAS, avg_sec, avg_late = compute_data_choice_2(df)\n",
    "            \n",
    "            # Create graph\n",
    "            carrier_fig = px.line(avg_car, x='Month', y='CarrierDelay', color='Reporting_Airline', title='Average carrrier delay time (minutes) by airline')\n",
    "            weather_fig = px.line(avg_weather, x='Month', y='WeatherDelay', color='Reporting_Airline', title='Average weather delay time (minutes) by airline')\n",
    "            nas_fig = px.line(avg_NAS, x='Month', y='NASDelay', color='Reporting_Airline', title='Average NAS delay time (minutes) by airline')\n",
    "            sec_fig = px.line(avg_sec, x='Month', y='SecurityDelay', color='Reporting_Airline', title='Average security delay time (minutes) by airline')\n",
    "            late_fig = px.line(avg_late, x='Month', y='LateAircraftDelay', color='Reporting_Airline', title='Average late aircraft delay time (minutes) by airline')\n",
    "            \n",
    "            return[dcc.Graph(figure=carrier_fig), \n",
    "                   dcc.Graph(figure=weather_fig), \n",
    "                   dcc.Graph(figure=nas_fig), \n",
    "                   dcc.Graph(figure=sec_fig), \n",
    "                   dcc.Graph(figure=late_fig)]"
   ]
  },
  {
   "cell_type": "code",
   "execution_count": null,
   "id": "c3c98573-0b1f-4f69-8fc6-1f4e202f8d10",
   "metadata": {},
   "outputs": [
    {
     "name": "stdout",
     "output_type": "stream",
     "text": [
      "Dash is running on http://127.0.0.1:8050/\n",
      "\n",
      " * Serving Flask app '__main__' (lazy loading)\n",
      " * Environment: production\n",
      "\u001b[31m   WARNING: This is a development server. Do not use it in a production deployment.\u001b[0m\n",
      "\u001b[2m   Use a production WSGI server instead.\u001b[0m\n",
      " * Debug mode: off\n"
     ]
    },
    {
     "name": "stderr",
     "output_type": "stream",
     "text": [
      " * Running on http://127.0.0.1:8050/ (Press CTRL+C to quit)\n",
      "127.0.0.1 - - [06/Dec/2021 18:21:06] \"GET / HTTP/1.1\" 200 -\n",
      "127.0.0.1 - - [06/Dec/2021 18:21:06] \"GET /_dash-component-suites/dash/deps/react-dom@16.v2_0_0m1638810288.14.0.min.js HTTP/1.1\" 200 -\n",
      "127.0.0.1 - - [06/Dec/2021 18:21:07] \"GET /_dash-component-suites/dash/deps/prop-types@15.v2_0_0m1638810288.7.2.min.js HTTP/1.1\" 200 -\n",
      "127.0.0.1 - - [06/Dec/2021 18:21:07] \"GET /_dash-component-suites/dash/deps/react@16.v2_0_0m1638810288.14.0.min.js HTTP/1.1\" 200 -\n",
      "127.0.0.1 - - [06/Dec/2021 18:21:07] \"GET /_dash-component-suites/dash/dash-renderer/build/dash_renderer.v2_0_0m1638810288.min.js HTTP/1.1\" 200 -\n",
      "127.0.0.1 - - [06/Dec/2021 18:21:07] \"GET /_dash-component-suites/dash/deps/polyfill@7.v2_0_0m1638810288.12.1.min.js HTTP/1.1\" 200 -\n",
      "127.0.0.1 - - [06/Dec/2021 18:21:07] \"GET /_dash-component-suites/dash/dcc/dash_core_components-shared.v2_0_0m1638810288.js HTTP/1.1\" 200 -\n",
      "127.0.0.1 - - [06/Dec/2021 18:21:07] \"GET /_dash-component-suites/dash/dash_table/bundle.v5_0_0m1638810288.js HTTP/1.1\" 200 -\n",
      "127.0.0.1 - - [06/Dec/2021 18:21:07] \"GET /_dash-component-suites/dash/dcc/dash_core_components.v2_0_0m1638810288.js HTTP/1.1\" 200 -\n",
      "127.0.0.1 - - [06/Dec/2021 18:21:07] \"GET /_dash-component-suites/dash/html/dash_html_components.v2_0_0m1638810288.min.js HTTP/1.1\" 200 -\n",
      "127.0.0.1 - - [06/Dec/2021 18:21:07] \"GET /_dash-layout HTTP/1.1\" 200 -\n",
      "127.0.0.1 - - [06/Dec/2021 18:21:07] \"GET /_dash-dependencies HTTP/1.1\" 200 -\n",
      "127.0.0.1 - - [06/Dec/2021 18:21:07] \"GET /_favicon.ico?v=2.0.0 HTTP/1.1\" 200 -\n"
     ]
    },
    {
     "name": "stdout",
     "output_type": "stream",
     "text": [
      "Exception on /_dash-update-component [POST]\n",
      "Traceback (most recent call last):\n",
      "  File \"C:\\Users\\admin\\Downloads\\vizulization\\project2\\env\\lib\\site-packages\\flask\\app.py\", line 2073, in wsgi_app\n",
      "    response = self.full_dispatch_request()\n",
      "  File \"C:\\Users\\admin\\Downloads\\vizulization\\project2\\env\\lib\\site-packages\\flask\\app.py\", line 1518, in full_dispatch_request\n",
      "    rv = self.handle_user_exception(e)\n",
      "  File \"C:\\Users\\admin\\Downloads\\vizulization\\project2\\env\\lib\\site-packages\\flask\\app.py\", line 1516, in full_dispatch_request\n",
      "    rv = self.dispatch_request()\n",
      "  File \"C:\\Users\\admin\\Downloads\\vizulization\\project2\\env\\lib\\site-packages\\flask\\app.py\", line 1502, in dispatch_request\n",
      "    return self.ensure_sync(self.view_functions[rule.endpoint])(**req.view_args)\n",
      "  File \"C:\\Users\\admin\\Downloads\\vizulization\\project2\\env\\lib\\site-packages\\dash\\dash.py\", line 1336, in dispatch\n",
      "    response.set_data(func(*args, outputs_list=outputs_list))\n",
      "  File \"C:\\Users\\admin\\Downloads\\vizulization\\project2\\env\\lib\\site-packages\\dash\\_callback.py\", line 151, in add_context\n",
      "    output_value = func(*func_args, **func_kwargs)  # %% callback invoked %%\n",
      "  File \"C:\\Users\\admin\\AppData\\Local\\Temp/ipykernel_10540/4144711878.py\", line 22, in get_graph\n",
      "    df =  airline_data[airline_data['Year']==int(year)]\n",
      "TypeError: int() argument must be a string, a bytes-like object or a real number, not 'NoneType'\n"
     ]
    },
    {
     "name": "stderr",
     "output_type": "stream",
     "text": [
      "127.0.0.1 - - [06/Dec/2021 18:21:07] \"POST /_dash-update-component HTTP/1.1\" 500 -\n",
      "127.0.0.1 - - [06/Dec/2021 18:21:07] \"GET /_dash-component-suites/dash/dcc/async-dropdown.js HTTP/1.1\" 200 -\n"
     ]
    },
    {
     "name": "stdout",
     "output_type": "stream",
     "text": [
      "Exception on /_dash-update-component [POST]\n",
      "Traceback (most recent call last):\n",
      "  File \"C:\\Users\\admin\\Downloads\\vizulization\\project2\\env\\lib\\site-packages\\flask\\app.py\", line 2073, in wsgi_app\n",
      "    response = self.full_dispatch_request()\n",
      "  File \"C:\\Users\\admin\\Downloads\\vizulization\\project2\\env\\lib\\site-packages\\flask\\app.py\", line 1518, in full_dispatch_request\n",
      "    rv = self.handle_user_exception(e)\n",
      "  File \"C:\\Users\\admin\\Downloads\\vizulization\\project2\\env\\lib\\site-packages\\flask\\app.py\", line 1516, in full_dispatch_request\n",
      "    rv = self.dispatch_request()\n",
      "  File \"C:\\Users\\admin\\Downloads\\vizulization\\project2\\env\\lib\\site-packages\\flask\\app.py\", line 1502, in dispatch_request\n",
      "    return self.ensure_sync(self.view_functions[rule.endpoint])(**req.view_args)\n",
      "  File \"C:\\Users\\admin\\Downloads\\vizulization\\project2\\env\\lib\\site-packages\\dash\\dash.py\", line 1336, in dispatch\n",
      "    response.set_data(func(*args, outputs_list=outputs_list))\n",
      "  File \"C:\\Users\\admin\\Downloads\\vizulization\\project2\\env\\lib\\site-packages\\dash\\_callback.py\", line 151, in add_context\n",
      "    output_value = func(*func_args, **func_kwargs)  # %% callback invoked %%\n",
      "  File \"C:\\Users\\admin\\AppData\\Local\\Temp/ipykernel_10540/4144711878.py\", line 22, in get_graph\n",
      "    df =  airline_data[airline_data['Year']==int(year)]\n",
      "TypeError: int() argument must be a string, a bytes-like object or a real number, not 'NoneType'\n"
     ]
    },
    {
     "name": "stderr",
     "output_type": "stream",
     "text": [
      "127.0.0.1 - - [06/Dec/2021 18:21:11] \"POST /_dash-update-component HTTP/1.1\" 500 -\n"
     ]
    },
    {
     "name": "stdout",
     "output_type": "stream",
     "text": [
      "Exception on /_dash-update-component [POST]\n",
      "Traceback (most recent call last):\n",
      "  File \"C:\\Users\\admin\\Downloads\\vizulization\\project2\\env\\lib\\site-packages\\flask\\app.py\", line 2073, in wsgi_app\n",
      "    response = self.full_dispatch_request()\n",
      "  File \"C:\\Users\\admin\\Downloads\\vizulization\\project2\\env\\lib\\site-packages\\flask\\app.py\", line 1518, in full_dispatch_request\n",
      "    rv = self.handle_user_exception(e)\n",
      "  File \"C:\\Users\\admin\\Downloads\\vizulization\\project2\\env\\lib\\site-packages\\flask\\app.py\", line 1516, in full_dispatch_request\n",
      "    rv = self.dispatch_request()\n",
      "  File \"C:\\Users\\admin\\Downloads\\vizulization\\project2\\env\\lib\\site-packages\\flask\\app.py\", line 1502, in dispatch_request\n",
      "    return self.ensure_sync(self.view_functions[rule.endpoint])(**req.view_args)\n",
      "  File \"C:\\Users\\admin\\Downloads\\vizulization\\project2\\env\\lib\\site-packages\\dash\\dash.py\", line 1336, in dispatch\n",
      "    response.set_data(func(*args, outputs_list=outputs_list))\n",
      "  File \"C:\\Users\\admin\\Downloads\\vizulization\\project2\\env\\lib\\site-packages\\dash\\_callback.py\", line 151, in add_context\n",
      "    output_value = func(*func_args, **func_kwargs)  # %% callback invoked %%\n",
      "  File \"C:\\Users\\admin\\AppData\\Local\\Temp/ipykernel_10540/4144711878.py\", line 22, in get_graph\n",
      "    df =  airline_data[airline_data['Year']==int(year)]\n",
      "TypeError: int() argument must be a string, a bytes-like object or a real number, not 'NoneType'\n"
     ]
    },
    {
     "name": "stderr",
     "output_type": "stream",
     "text": [
      "127.0.0.1 - - [06/Dec/2021 18:21:12] \"POST /_dash-update-component HTTP/1.1\" 500 -\n",
      "127.0.0.1 - - [06/Dec/2021 18:21:16] \"POST /_dash-update-component HTTP/1.1\" 200 -\n",
      "127.0.0.1 - - [06/Dec/2021 18:21:16] \"GET /_dash-component-suites/dash/dcc/async-graph.js HTTP/1.1\" 200 -\n",
      "127.0.0.1 - - [06/Dec/2021 18:21:16] \"GET /_dash-component-suites/dash/dcc/async-plotlyjs.js HTTP/1.1\" 200 -\n",
      "127.0.0.1 - - [06/Dec/2021 18:22:34] \"POST /_dash-update-component HTTP/1.1\" 200 -\n"
     ]
    },
    {
     "name": "stdout",
     "output_type": "stream",
     "text": [
      "Exception on /_dash-update-component [POST]\n",
      "Traceback (most recent call last):\n",
      "  File \"C:\\Users\\admin\\Downloads\\vizulization\\project2\\env\\lib\\site-packages\\flask\\app.py\", line 2073, in wsgi_app\n",
      "    response = self.full_dispatch_request()\n",
      "  File \"C:\\Users\\admin\\Downloads\\vizulization\\project2\\env\\lib\\site-packages\\flask\\app.py\", line 1518, in full_dispatch_request\n",
      "    rv = self.handle_user_exception(e)\n",
      "  File \"C:\\Users\\admin\\Downloads\\vizulization\\project2\\env\\lib\\site-packages\\flask\\app.py\", line 1516, in full_dispatch_request\n",
      "    rv = self.dispatch_request()\n",
      "  File \"C:\\Users\\admin\\Downloads\\vizulization\\project2\\env\\lib\\site-packages\\flask\\app.py\", line 1502, in dispatch_request\n",
      "    return self.ensure_sync(self.view_functions[rule.endpoint])(**req.view_args)\n",
      "  File \"C:\\Users\\admin\\Downloads\\vizulization\\project2\\env\\lib\\site-packages\\dash\\dash.py\", line 1336, in dispatch\n",
      "    response.set_data(func(*args, outputs_list=outputs_list))\n",
      "  File \"C:\\Users\\admin\\Downloads\\vizulization\\project2\\env\\lib\\site-packages\\dash\\_callback.py\", line 151, in add_context\n",
      "    output_value = func(*func_args, **func_kwargs)  # %% callback invoked %%\n",
      "  File \"C:\\Users\\admin\\AppData\\Local\\Temp/ipykernel_10540/4144711878.py\", line 22, in get_graph\n",
      "    df =  airline_data[airline_data['Year']==int(year)]\n",
      "TypeError: int() argument must be a string, a bytes-like object or a real number, not 'NoneType'\n"
     ]
    },
    {
     "name": "stderr",
     "output_type": "stream",
     "text": [
      "127.0.0.1 - - [06/Dec/2021 18:27:15] \"POST /_dash-update-component HTTP/1.1\" 500 -\n",
      "127.0.0.1 - - [06/Dec/2021 18:35:54] \"POST /_dash-update-component HTTP/1.1\" 200 -\n"
     ]
    },
    {
     "name": "stdout",
     "output_type": "stream",
     "text": [
      "Exception on /_dash-update-component [POST]\n",
      "Traceback (most recent call last):\n",
      "  File \"C:\\Users\\admin\\Downloads\\vizulization\\project2\\env\\lib\\site-packages\\flask\\app.py\", line 2073, in wsgi_app\n",
      "    response = self.full_dispatch_request()\n",
      "  File \"C:\\Users\\admin\\Downloads\\vizulization\\project2\\env\\lib\\site-packages\\flask\\app.py\", line 1518, in full_dispatch_request\n",
      "    rv = self.handle_user_exception(e)\n",
      "  File \"C:\\Users\\admin\\Downloads\\vizulization\\project2\\env\\lib\\site-packages\\flask\\app.py\", line 1516, in full_dispatch_request\n",
      "    rv = self.dispatch_request()\n",
      "  File \"C:\\Users\\admin\\Downloads\\vizulization\\project2\\env\\lib\\site-packages\\flask\\app.py\", line 1502, in dispatch_request\n",
      "    return self.ensure_sync(self.view_functions[rule.endpoint])(**req.view_args)\n",
      "  File \"C:\\Users\\admin\\Downloads\\vizulization\\project2\\env\\lib\\site-packages\\dash\\dash.py\", line 1336, in dispatch\n",
      "    response.set_data(func(*args, outputs_list=outputs_list))\n",
      "  File \"C:\\Users\\admin\\Downloads\\vizulization\\project2\\env\\lib\\site-packages\\dash\\_callback.py\", line 151, in add_context\n",
      "    output_value = func(*func_args, **func_kwargs)  # %% callback invoked %%\n",
      "  File \"C:\\Users\\admin\\AppData\\Local\\Temp/ipykernel_10540/4144711878.py\", line 22, in get_graph\n",
      "    df =  airline_data[airline_data['Year']==int(year)]\n",
      "TypeError: int() argument must be a string, a bytes-like object or a real number, not 'NoneType'\n"
     ]
    },
    {
     "name": "stderr",
     "output_type": "stream",
     "text": [
      "127.0.0.1 - - [06/Dec/2021 18:40:55] \"POST /_dash-update-component HTTP/1.1\" 500 -\n"
     ]
    },
    {
     "name": "stdout",
     "output_type": "stream",
     "text": [
      "Exception on /_dash-update-component [POST]\n",
      "Traceback (most recent call last):\n",
      "  File \"C:\\Users\\admin\\Downloads\\vizulization\\project2\\env\\lib\\site-packages\\flask\\app.py\", line 2073, in wsgi_app\n",
      "    response = self.full_dispatch_request()\n",
      "  File \"C:\\Users\\admin\\Downloads\\vizulization\\project2\\env\\lib\\site-packages\\flask\\app.py\", line 1518, in full_dispatch_request\n",
      "    rv = self.handle_user_exception(e)\n",
      "  File \"C:\\Users\\admin\\Downloads\\vizulization\\project2\\env\\lib\\site-packages\\flask\\app.py\", line 1516, in full_dispatch_request\n",
      "    rv = self.dispatch_request()\n",
      "  File \"C:\\Users\\admin\\Downloads\\vizulization\\project2\\env\\lib\\site-packages\\flask\\app.py\", line 1502, in dispatch_request\n",
      "    return self.ensure_sync(self.view_functions[rule.endpoint])(**req.view_args)\n",
      "  File \"C:\\Users\\admin\\Downloads\\vizulization\\project2\\env\\lib\\site-packages\\dash\\dash.py\", line 1336, in dispatch\n",
      "    response.set_data(func(*args, outputs_list=outputs_list))\n",
      "  File \"C:\\Users\\admin\\Downloads\\vizulization\\project2\\env\\lib\\site-packages\\dash\\_callback.py\", line 151, in add_context\n",
      "    output_value = func(*func_args, **func_kwargs)  # %% callback invoked %%\n",
      "  File \"C:\\Users\\admin\\AppData\\Local\\Temp/ipykernel_10540/4144711878.py\", line 22, in get_graph\n",
      "    df =  airline_data[airline_data['Year']==int(year)]\n",
      "TypeError: int() argument must be a string, a bytes-like object or a real number, not 'NoneType'\n"
     ]
    },
    {
     "name": "stderr",
     "output_type": "stream",
     "text": [
      "127.0.0.1 - - [06/Dec/2021 18:42:26] \"POST /_dash-update-component HTTP/1.1\" 500 -\n"
     ]
    },
    {
     "name": "stdout",
     "output_type": "stream",
     "text": [
      "Exception on /_dash-update-component [POST]\n",
      "Traceback (most recent call last):\n",
      "  File \"C:\\Users\\admin\\Downloads\\vizulization\\project2\\env\\lib\\site-packages\\flask\\app.py\", line 2073, in wsgi_app\n",
      "    response = self.full_dispatch_request()\n",
      "  File \"C:\\Users\\admin\\Downloads\\vizulization\\project2\\env\\lib\\site-packages\\flask\\app.py\", line 1518, in full_dispatch_request\n",
      "    rv = self.handle_user_exception(e)\n",
      "  File \"C:\\Users\\admin\\Downloads\\vizulization\\project2\\env\\lib\\site-packages\\flask\\app.py\", line 1516, in full_dispatch_request\n",
      "    rv = self.dispatch_request()\n",
      "  File \"C:\\Users\\admin\\Downloads\\vizulization\\project2\\env\\lib\\site-packages\\flask\\app.py\", line 1502, in dispatch_request\n",
      "    return self.ensure_sync(self.view_functions[rule.endpoint])(**req.view_args)\n",
      "  File \"C:\\Users\\admin\\Downloads\\vizulization\\project2\\env\\lib\\site-packages\\dash\\dash.py\", line 1336, in dispatch\n",
      "    response.set_data(func(*args, outputs_list=outputs_list))\n",
      "  File \"C:\\Users\\admin\\Downloads\\vizulization\\project2\\env\\lib\\site-packages\\dash\\_callback.py\", line 151, in add_context\n",
      "    output_value = func(*func_args, **func_kwargs)  # %% callback invoked %%\n",
      "  File \"C:\\Users\\admin\\AppData\\Local\\Temp/ipykernel_10540/4144711878.py\", line 22, in get_graph\n",
      "    df =  airline_data[airline_data['Year']==int(year)]\n",
      "TypeError: int() argument must be a string, a bytes-like object or a real number, not 'NoneType'\n"
     ]
    },
    {
     "name": "stderr",
     "output_type": "stream",
     "text": [
      "127.0.0.1 - - [06/Dec/2021 18:43:18] \"POST /_dash-update-component HTTP/1.1\" 500 -\n",
      "127.0.0.1 - - [06/Dec/2021 18:43:24] \"POST /_dash-update-component HTTP/1.1\" 200 -\n",
      "127.0.0.1 - - [06/Dec/2021 18:44:16] \"POST /_dash-update-component HTTP/1.1\" 200 -\n",
      "127.0.0.1 - - [06/Dec/2021 18:49:06] \"POST /_dash-update-component HTTP/1.1\" 200 -\n",
      "127.0.0.1 - - [06/Dec/2021 18:49:11] \"POST /_dash-update-component HTTP/1.1\" 200 -\n",
      "127.0.0.1 - - [06/Dec/2021 18:49:44] \"POST /_dash-update-component HTTP/1.1\" 200 -\n"
     ]
    }
   ],
   "source": [
    "if __name__ == '__main__':\n",
    "    app.run_server()"
   ]
  },
  {
   "cell_type": "code",
   "execution_count": null,
   "id": "607a5b17-c721-4fcf-b29a-01a14a1edd5e",
   "metadata": {},
   "outputs": [],
   "source": []
  }
 ],
 "metadata": {
  "kernelspec": {
   "display_name": "Python 3 (ipykernel)",
   "language": "python",
   "name": "python3"
  },
  "language_info": {
   "codemirror_mode": {
    "name": "ipython",
    "version": 3
   },
   "file_extension": ".py",
   "mimetype": "text/x-python",
   "name": "python",
   "nbconvert_exporter": "python",
   "pygments_lexer": "ipython3",
   "version": "3.10.0"
  }
 },
 "nbformat": 4,
 "nbformat_minor": 5
}
